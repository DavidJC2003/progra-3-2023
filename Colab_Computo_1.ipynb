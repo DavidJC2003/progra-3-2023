{
 "cells": [
  {
   "cell_type": "markdown",
   "metadata": {},
   "source": [
    "Tipos de datos"
   ]
  },
  {
   "cell_type": "code",
   "execution_count": null,
   "metadata": {},
   "outputs": [],
   "source": [
    "num1 = 5 #variable de tipo entero.\n",
    "num2 = 4.9 #variable de tipo double, real, decimal.\n",
    "print(\"Los valores: Num 1: \", num1, \" Num 2: \", num2)\n",
    "\n",
    "#num1 = 4.9\n",
    "print(\"Valor: Num 1: \", num1)"
   ]
  },
  {
   "cell_type": "code",
   "execution_count": null,
   "metadata": {},
   "outputs": [],
   "source": [
    "varLogica = False\n",
    "\n",
    "print(\"Variable Booleana: \", varLogica)"
   ]
  },
  {
   "cell_type": "code",
   "execution_count": null,
   "metadata": {},
   "outputs": [],
   "source": [
    "nombre = \"Luis Hernandez\"\n",
    "print(\"Mi Nombre: \", nombre, \"Iniciales: \", nombre[0], nombre[5], \"Longitud: \", len(nombre) )\n",
    "print(\"Primer Nombre: \", nombre[0:5])\n",
    "print(\"Primer Nombre: \", nombre[:5])\n",
    "print(\"Apellido: \", nombre[5:len(nombre)])\n",
    "print(\"Apellid: \", nombre[5:])\n",
    "print(\"Apellido: \", nombre[-9:])"
   ]
  },
  {
   "cell_type": "code",
   "execution_count": null,
   "metadata": {},
   "outputs": [],
   "source": [
    "print(type(num1))\n",
    "print(type(num2))\n",
    "print(type(varLogica))\n",
    "print(type(nombre))"
   ]
  },
  {
   "cell_type": "code",
   "execution_count": null,
   "metadata": {},
   "outputs": [],
   "source": [
    "num1 = float(input(\"Num 1: \"))\n",
    "num2 = float(input(\"Num 2: \"))\n",
    "resp = num1 + num2\n",
    "print(\"La suma es: \", resp)"
   ]
  },
  {
   "cell_type": "code",
   "execution_count": null,
   "metadata": {},
   "outputs": [],
   "source": [
    "def suma(num1, num2):\n",
    "  return num1 + num2"
   ]
  },
  {
   "cell_type": "code",
   "execution_count": null,
   "metadata": {},
   "outputs": [],
   "source": [
    "num1 = float(input(\"Num 1: \"))\n",
    "num2 = float(input(\"N4.26um 2: \"))\n",
    "resp = suma(num1, num2)\n",
    "print(resp)"
   ]
  },
  {
   "cell_type": "markdown",
   "metadata": {},
   "source": [
    "Convertir grados celcius a farenheit\n",
    "\n",
    "\n"
   ]
  },
  {
   "cell_type": "code",
   "execution_count": null,
   "metadata": {},
   "outputs": [],
   "source": []
  }
 ],
 "metadata": {
  "language_info": {
   "name": "python"
  },
  "orig_nbformat": 4
 },
 "nbformat": 4,
 "nbformat_minor": 2
}
